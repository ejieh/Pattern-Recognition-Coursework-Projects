{
 "cells": [
  {
   "cell_type": "markdown",
   "metadata": {},
   "source": [
    "# Assignment 3: Support Vector Machines"
   ]
  },
  {
   "cell_type": "markdown",
   "metadata": {},
   "source": [
    "## By: Chuwkwuma Ejieh"
   ]
  },
  {
   "cell_type": "markdown",
   "metadata": {},
   "source": [
    "#### This explains the python code I used to implement the questions for assignment 3 and serves as a report"
   ]
  },
  {
   "cell_type": "markdown",
   "metadata": {},
   "source": [
    " The first step was to import all the libraries I need to implement all the tasks stated in the assignment. Pandas is used to handle the data files (CSV file), sklearn is the library that handles the SVM classifier and evaluation metrics, numpy is used for some matrix mathematical operations and matplotlib is used to plot."
   ]
  },
  {
   "cell_type": "code",
   "execution_count": 1,
   "metadata": {
    "collapsed": true
   },
   "outputs": [],
   "source": [
    "%matplotlib inline"
   ]
  },
  {
   "cell_type": "code",
   "execution_count": 2,
   "metadata": {
    "collapsed": true
   },
   "outputs": [],
   "source": [
    "import pandas as pd\n",
    "from sklearn.cross_validation import KFold\n",
    "from sklearn.svm import SVC\n",
    "from sklearn.metrics import accuracy_score\n",
    "import numpy as np\n",
    "from sklearn.grid_search import GridSearchCV\n",
    "from sklearn.cross_validation import train_test_split\n",
    "from sklearn.metrics import roc_curve, auc\n",
    "import matplotlib.pyplot as plt"
   ]
  },
  {
   "cell_type": "markdown",
   "metadata": {},
   "source": [
    "### The ClusterinCluster Dataset"
   ]
  },
  {
   "cell_type": "code",
   "execution_count": 3,
   "metadata": {
    "collapsed": true
   },
   "outputs": [],
   "source": [
    "path_one = 'C:\\\\Users\\\\Chux\\\\Desktop\\\\Datasets for Pattern Recognition\\\\clusterincluster.csv' #path of the csv file"
   ]
  },
  {
   "cell_type": "markdown",
   "metadata": {},
   "source": [
    "This function takes in the system path of were the data file is formed and transforms it to an array. It returns the features of the dataset, the classes and the length of the dataset"
   ]
  },
  {
   "cell_type": "code",
   "execution_count": 4,
   "metadata": {
    "collapsed": true
   },
   "outputs": [],
   "source": [
    "def load_data(path):\n",
    "    ''' Takes in path of CSV file and returns the features, classes and length of data'''\n",
    "    #d_features, d_classes, d_length\n",
    "    data = pd.read_csv(path, header=None)\n",
    "    d_features = data.ix[:,0:1]\n",
    "    d_classes = data.ix[:,2:2]\n",
    "    d_length = len(data)\n",
    "    \n",
    "    return (d_features.values, d_classes.values, d_length)"
   ]
  },
  {
   "cell_type": "code",
   "execution_count": 5,
   "metadata": {
    "collapsed": false
   },
   "outputs": [],
   "source": [
    "data_one = load_data(path_one)"
   ]
  },
  {
   "cell_type": "markdown",
   "metadata": {},
   "source": [
    "This function implements the k-fold cross-validation. It takes as input the length of the data (i.e. the number of instances in the data) and the number of folds."
   ]
  },
  {
   "cell_type": "code",
   "execution_count": 6,
   "metadata": {
    "collapsed": true
   },
   "outputs": [],
   "source": [
    "def k_fold(length, n_folds):\n",
    "    '''Splits the data into the number of folds given as input'''\n",
    "    return KFold(length, n_folds)"
   ]
  },
  {
   "cell_type": "code",
   "execution_count": 7,
   "metadata": {
    "collapsed": false
   },
   "outputs": [],
   "source": [
    "kfold_one = k_fold(1000, 10)"
   ]
  },
  {
   "cell_type": "markdown",
   "metadata": {},
   "source": [
    "The function below gets the metrics used for evaluation. It takes in the predicted classes and the real classes as inputs and outputs 5 evaluation metrics - PPV, NPV, Specificity, Sensitivity, Accuracy. TP means True Positive; TN, True Negative; FP, False Positive; FN, False Negative. Class one is taken as Positive and Class two as Negative."
   ]
  },
  {
   "cell_type": "code",
   "execution_count": 8,
   "metadata": {
    "collapsed": true
   },
   "outputs": [],
   "source": [
    "def get_metrics (predicted, real):\n",
    "    TP, TN, FP, FN = 0,0,0,0\n",
    "    n = len(predicted) #len of the test set\n",
    "    P = len([x for x in real if x==1])#Class one is taken as Positive\n",
    "    N = len([x for x in real if x==2])#Class two is taken as Negative\n",
    "       \n",
    "    for i,j in zip(predicted, real):\n",
    "        if i == 1 and j == 1:#if the predicted class is 1 and the real class is 1, increase the count of True Positive\n",
    "            TP +=1\n",
    "        elif i == 1 and j==2:#if the predicted class is 1 and the real class is 2, increase the count of False Positive\n",
    "            FP +=1\n",
    "        elif i==2 and j==2:#if the predicted class is 2 and the real class is 2, increase the count of True Negative\n",
    "            TN +=1\n",
    "        elif i==2 and j==1:#if the predicted class is 2 and the real class is 1, increase the count of False Negative\n",
    "            FN +=1\n",
    "        else:\n",
    "            pass\n",
    "    if (TP+FP) == 0:\n",
    "        PPV= 0\n",
    "    else:\n",
    "        PPV = TP/float(TP+FP) #PPV is the total TPs divided by the sum of total TPs and NPs. Float is used to avoid rounding up to integers.\n",
    "        \n",
    "    if (TN+FN) == 0:\n",
    "        NPV = 0\n",
    "    else:\n",
    "        NPV = TN/float(TN+FN) #NPV is the total TNs divided by the sum of total TNs and FNs\n",
    "        \n",
    "    if (TN+FP) == 0:\n",
    "        Specificity =  0\n",
    "    else:\n",
    "        Specificity = TN/float(TN+FP) # Specificity is the total TNs divided by the sum of TNs and FPs\n",
    "        \n",
    "    if (TP+FN)==0:\n",
    "        Sensitivity= 0\n",
    "    else:\n",
    "        Sensitivity = TP/float(TP+FN) # Sensitivity is the total TPs divided by the sum of TPs and FNs\n",
    "        \n",
    "    if (TP+TN)==0:\n",
    "        Accuracy = 0\n",
    "    else:\n",
    "        Accuracy = float(TP+TN)/n # Accuracy is the sum of the TPs and TNs divided by the length of the test set.\n",
    "        \n",
    "    return (PPV, NPV, Specificity, Sensitivity, Accuracy)"
   ]
  },
  {
   "cell_type": "markdown",
   "metadata": {},
   "source": [
    "Below is the initialization of the SVM classifiers with 3 different Kernels (linear, polynomial and rbf)"
   ]
  },
  {
   "cell_type": "code",
   "execution_count": 9,
   "metadata": {
    "collapsed": true
   },
   "outputs": [],
   "source": [
    "linear_svm, poly_svm, rbf_svm = SVC(kernel='linear'), SVC(kernel='poly', degree=3), SVC(kernel='rbf')"
   ]
  },
  {
   "cell_type": "markdown",
   "metadata": {},
   "source": [
    "This function does the actual classification. It takes in the data attributes, classes, k_fold method and the kernel type to be used for classification. Met1-5 corresponds to the 5 metrics used to evaluate the classifier. The first step in the fucntion is to use the k_fold method to split into train and test data, it then fits the data into the SVM classifier with the required kernel type and predicts the class of the test data. The 5 metrics are printed at the end."
   ]
  },
  {
   "cell_type": "code",
   "execution_count": 10,
   "metadata": {
    "collapsed": true
   },
   "outputs": [],
   "source": [
    "def classify_svm (data_attributes, data_classes, k_fold, svm_type):\n",
    "    met1, met2, met3, met4, met5 = 0.0,0.0,0.0,0.0,0.0\n",
    "    for train, test in k_fold:\n",
    "    \n",
    "        train_data, train_class = data_attributes[train], data_classes[train]\n",
    "        test_data, test_class = data_attributes[test], data_classes[test]\n",
    "        svm_type.fit(train_data, np.ravel(train_class))\n",
    "        pred_labels =svm_type.predict(test_data)\n",
    "        metrics = get_metrics (pred_labels,test_class)\n",
    "        met1 = met1+metrics[0] \n",
    "        met2 = met2+metrics[1]\n",
    "        met3 =  met3+metrics[2]\n",
    "        met4 = met4 +metrics[3]\n",
    "        met5 = met5+metrics[4]\n",
    "    print ('Average PPV: {0:.4f}'.format(met1/10))   \n",
    "    print ('Average NPV: {0:.4f}'.format(met2/10)) \n",
    "    print ('Average Specificity: {0:.4f}'.format(met3/10)) \n",
    "    print ('Average Sensitivity: {0:.4f}'.format(met4/10)) \n",
    "    print ('Average Accuracy: {0:.4f}'.format(met5/10)) \n",
    "    return None"
   ]
  },
  {
   "cell_type": "markdown",
   "metadata": {},
   "source": [
    "###### Running the SVM linear kernel"
   ]
  },
  {
   "cell_type": "code",
   "execution_count": 11,
   "metadata": {
    "collapsed": false
   },
   "outputs": [
    {
     "name": "stdout",
     "output_type": "stream",
     "text": [
      "Average PPV: 0.0000\n",
      "Average NPV: 0.0000\n",
      "Average Specificity: 0.0000\n",
      "Average Sensitivity: 0.0000\n",
      "Average Accuracy: 0.0000\n"
     ]
    }
   ],
   "source": [
    "classify_svm (data_one[0], data_one[1], kfold_one, linear_svm)"
   ]
  },
  {
   "cell_type": "markdown",
   "metadata": {},
   "source": [
    "##### Running the SVM polynomial kernel (degree 3)"
   ]
  },
  {
   "cell_type": "code",
   "execution_count": 12,
   "metadata": {
    "collapsed": false
   },
   "outputs": [
    {
     "name": "stdout",
     "output_type": "stream",
     "text": [
      "Average PPV: 0.0000\n",
      "Average NPV: 0.5000\n",
      "Average Specificity: 0.0730\n",
      "Average Sensitivity: 0.0000\n",
      "Average Accuracy: 0.0730\n"
     ]
    }
   ],
   "source": [
    "classify_svm (data_one[0], data_one[1], kfold_one, poly_svm)"
   ]
  },
  {
   "cell_type": "markdown",
   "metadata": {},
   "source": [
    "##### Running the SVM rbf kernel"
   ]
  },
  {
   "cell_type": "code",
   "execution_count": 13,
   "metadata": {
    "collapsed": false
   },
   "outputs": [
    {
     "name": "stdout",
     "output_type": "stream",
     "text": [
      "Average PPV: 0.5000\n",
      "Average NPV: 0.5000\n",
      "Average Specificity: 0.5000\n",
      "Average Sensitivity: 0.5000\n",
      "Average Accuracy: 1.0000\n"
     ]
    }
   ],
   "source": [
    "classify_svm (data_one[0], data_one[1], kfold_one, rbf_svm)"
   ]
  },
  {
   "cell_type": "markdown",
   "metadata": {},
   "source": [
    "#### Discussion"
   ]
  },
  {
   "cell_type": "markdown",
   "metadata": {},
   "source": [
    "From the results above, we can see that the linear kernel got a 0% accuracy and the rbf kernel got a 100% accuracy. The Polynomial kernel (degree 3) got an accuracy of 7.3% which is still very low. This shows that for this dataset (clusterincluster), the rbf kernel perfoms very well.\n",
    "\n",
    "In the next section, I will oprimize the classifier using grid search."
   ]
  },
  {
   "cell_type": "code",
   "execution_count": 14,
   "metadata": {
    "collapsed": true
   },
   "outputs": [],
   "source": [
    "linear_tuned_parameters, poly_tuned_parameters, rbf_tuned_parameters = [{'kernel': ['linear']}],\\\n",
    "    [{'kernel': ['poly']}],[{'kernel': ['rbf']}]\n"
   ]
  },
  {
   "cell_type": "markdown",
   "metadata": {},
   "source": [
    "This inititializes the classifiers and tunes them with the parameters defined above. \"cv\" means cross-validation and it is set to 10."
   ]
  },
  {
   "cell_type": "code",
   "execution_count": 15,
   "metadata": {
    "collapsed": false
   },
   "outputs": [],
   "source": [
    "tuned_rbf = GridSearchCV(SVC(C=1), rbf_tuned_parameters, cv=10)\n",
    "tuned_linear = GridSearchCV(SVC(C=1), linear_tuned_parameters, cv=10)\n",
    "tuned_poly = GridSearchCV(SVC(C=1), poly_tuned_parameters, cv=10)"
   ]
  },
  {
   "cell_type": "markdown",
   "metadata": {},
   "source": [
    "This function does the classification using the tuned parameters of the grid search. It splits the data into training and test data and fits it using the tuned paramenters. It should be noted that the data was not normalized."
   ]
  },
  {
   "cell_type": "code",
   "execution_count": 16,
   "metadata": {
    "collapsed": true
   },
   "outputs": [],
   "source": [
    "def grid_classify (features, classes, grid_classifier):\n",
    "    train_data, test_data, train_class, test_class = train_test_split(\n",
    "    features, classes, test_size=0.1, random_state=0)\n",
    "    grid_classifier.fit(train_data, np.ravel(train_class))\n",
    "    pred_labels =grid_classifier.predict(test_data)\n",
    "    metrics = (get_metrics(pred_labels, test_class))\n",
    "    print ('Average PPV: {0:.4f}'.format(metrics[0]))   \n",
    "    print ('Average NPV: {0:.4f}'.format(metrics[1])) \n",
    "    print ('Average Specificity: {0:.4f}'.format(metrics[2])) \n",
    "    print ('Average Sensitivity: {0:.4f}'.format(metrics[3])) \n",
    "    print ('Average Accuracy: {0:.4f}'.format(metrics[4]))\n",
    "    \n",
    "    return (pred_labels, np.ravel(test_class))"
   ]
  },
  {
   "cell_type": "markdown",
   "metadata": {},
   "source": [
    "##### Tuned Linear Kernel"
   ]
  },
  {
   "cell_type": "code",
   "execution_count": 17,
   "metadata": {
    "collapsed": false
   },
   "outputs": [
    {
     "name": "stdout",
     "output_type": "stream",
     "text": [
      "Average PPV: 0.5278\n",
      "Average NPV: 0.5000\n",
      "Average Specificity: 0.2917\n",
      "Average Sensitivity: 0.7308\n",
      "Average Accuracy: 0.5200\n"
     ]
    }
   ],
   "source": [
    "grid_linear =grid_classify(data_one[0], data_one[1], tuned_linear)"
   ]
  },
  {
   "cell_type": "markdown",
   "metadata": {},
   "source": [
    "This function gets the True Positive rate and False Positive Rates and plots it to get the ROC curve. When called, it displays the ROC curve and outputs the AUC score."
   ]
  },
  {
   "cell_type": "code",
   "execution_count": 18,
   "metadata": {
    "collapsed": true
   },
   "outputs": [],
   "source": [
    "def roc_metrics(pred_data, real_data):\n",
    "    TP,FP = 0.0,0.0\n",
    "    P = len([x for x in real_data if x==1])#Class one is taken as Positive\n",
    "    N = len([x for x in real_data if x==2])#Class two is taken as Negative\n",
    "    TP_rate = []\n",
    "    FP_rate =[]\n",
    "    for i,j in zip(pred_data, real_data):\n",
    "        if i == 1 and j == 1:#if the predicted class is 1 and the real class is 1, increase the count of True Positive\n",
    "            TP +=1\n",
    "        elif i == 1 and j==2:#if the predicted class is 1 and the real class is 2, increase the count of False Positive\n",
    "            FP +=1\n",
    "        else:\n",
    "            pass\n",
    "        TP_rate.append(TP/P)\n",
    "        FP_rate.append(FP/N)\n",
    "    plt.plot(FP_rate, TP_rate)\n",
    "    plt.axis([0,1,0,1])\n",
    "    plt.xlabel (\"False Positive Rate\")\n",
    "    plt.ylabel (\"True Positive Rate\")\n",
    "    plt.show()\n",
    "    AUC = auc(FP_rate, TP_rate)\n",
    "    return (AUC)"
   ]
  },
  {
   "cell_type": "markdown",
   "metadata": {},
   "source": [
    "Calling the function to display the roc curve on the optimized classifier with the linear kernel."
   ]
  },
  {
   "cell_type": "code",
   "execution_count": 19,
   "metadata": {
    "collapsed": false
   },
   "outputs": [
    {
     "data": {
      "image/png": "[encoded data removed]",
      "text/plain": [
       "<matplotlib.figure.Figure at 0x79569b0>"
      ]
     },
     "metadata": {},
     "output_type": "display_data"
    },
    {
     "data": {
      "text/plain": [
       "0.22636217948717954"
      ]
     },
     "execution_count": 19,
     "metadata": {},
     "output_type": "execute_result"
    }
   ],
   "source": [
    "roc_metrics(grid_linear[0], grid_linear[1])"
   ]
  },
  {
   "cell_type": "markdown",
   "metadata": {},
   "source": [
    "##### Tuned Polynomial Model"
   ]
  },
  {
   "cell_type": "code",
   "execution_count": 20,
   "metadata": {
    "collapsed": false
   },
   "outputs": [
    {
     "name": "stdout",
     "output_type": "stream",
     "text": [
      "Average PPV: 0.5417\n",
      "Average NPV: 1.0000\n",
      "Average Specificity: 0.0833\n",
      "Average Sensitivity: 1.0000\n",
      "Average Accuracy: 0.5600\n"
     ]
    }
   ],
   "source": [
    "grid_poly =grid_classify(data_one[0], data_one[1], tuned_poly)"
   ]
  },
  {
   "cell_type": "code",
   "execution_count": 21,
   "metadata": {
    "collapsed": false
   },
   "outputs": [
    {
     "data": {
      "image/png": "[encoded data removed]",
      "text/plain": [
       "<matplotlib.figure.Figure at 0x7956750>"
      ]
     },
     "metadata": {},
     "output_type": "display_data"
    },
    {
     "data": {
      "text/plain": [
       "0.43629807692307687"
      ]
     },
     "execution_count": 21,
     "metadata": {},
     "output_type": "execute_result"
    }
   ],
   "source": [
    "roc_metrics(grid_poly[0], grid_poly[1])"
   ]
  },
  {
   "cell_type": "markdown",
   "metadata": {},
   "source": [
    "##### Tuned RBF Kernel"
   ]
  },
  {
   "cell_type": "code",
   "execution_count": 22,
   "metadata": {
    "collapsed": false
   },
   "outputs": [
    {
     "name": "stdout",
     "output_type": "stream",
     "text": [
      "Average PPV: 1.0000\n",
      "Average NPV: 1.0000\n",
      "Average Specificity: 1.0000\n",
      "Average Sensitivity: 1.0000\n",
      "Average Accuracy: 1.0000\n"
     ]
    }
   ],
   "source": [
    "grid_rbf =grid_classify(data_one[0], data_one[1], tuned_rbf)"
   ]
  },
  {
   "cell_type": "code",
   "execution_count": 23,
   "metadata": {
    "collapsed": false
   },
   "outputs": [
    {
     "data": {
      "image/png": "[encoded data removed]",
      "text/plain": [
       "<matplotlib.figure.Figure at 0x7c161f0>"
      ]
     },
     "metadata": {},
     "output_type": "display_data"
    },
    {
     "data": {
      "text/plain": [
       "0.0"
      ]
     },
     "execution_count": 23,
     "metadata": {},
     "output_type": "execute_result"
    }
   ],
   "source": [
    "roc_metrics(grid_rbf[0], grid_rbf[1])"
   ]
  },
  {
   "cell_type": "markdown",
   "metadata": {},
   "source": [
    "#### Discussion\n"
   ]
  },
  {
   "cell_type": "markdown",
   "metadata": {},
   "source": [
    "Using Grid Search to tune, there was a vast jump in performace in both the linear (from 0% to 52%) and polynomial kernels (from 7.2% to 56%). The RBF kernel still had a perfect score. The ROC curve of the RBF kernel is not showing anyline because the line is on the y-axis since is has a perfect classification. And since it is a line not a curve (False Positive Rate is zero), the Area under curve (AUC) is zero."
   ]
  },
  {
   "cell_type": "markdown",
   "metadata": {},
   "source": [
    "### The Half Kernel Dataset"
   ]
  },
  {
   "cell_type": "markdown",
   "metadata": {},
   "source": [
    "I will use the functions defined earlier when classifying this data set. The first step is to load the data."
   ]
  },
  {
   "cell_type": "code",
   "execution_count": 24,
   "metadata": {
    "collapsed": true
   },
   "outputs": [],
   "source": [
    "path_two = 'C:\\\\Users\\\\Chux\\\\Desktop\\\\Datasets for Pattern Recognition\\\\halfkernel.csv'"
   ]
  },
  {
   "cell_type": "code",
   "execution_count": 25,
   "metadata": {
    "collapsed": true
   },
   "outputs": [],
   "source": [
    "data_two = load_data(path_two)"
   ]
  },
  {
   "cell_type": "code",
   "execution_count": 26,
   "metadata": {
    "collapsed": false
   },
   "outputs": [],
   "source": [
    "kfold_two = k_fold(1000,10)"
   ]
  },
  {
   "cell_type": "markdown",
   "metadata": {},
   "source": [
    "##### Running the SVM Linear Kernel"
   ]
  },
  {
   "cell_type": "code",
   "execution_count": 27,
   "metadata": {
    "collapsed": false
   },
   "outputs": [
    {
     "name": "stdout",
     "output_type": "stream",
     "text": [
      "Average PPV: 0.5000\n",
      "Average NPV: 0.5000\n",
      "Average Specificity: 0.2840\n",
      "Average Sensitivity: 0.3610\n",
      "Average Accuracy: 0.6450\n"
     ]
    }
   ],
   "source": [
    "classify_svm (data_two[0], data_two[1], kfold_two, linear_svm)"
   ]
  },
  {
   "cell_type": "markdown",
   "metadata": {},
   "source": [
    "##### Running the SVM Polynomial Kernel"
   ]
  },
  {
   "cell_type": "code",
   "execution_count": null,
   "metadata": {
    "collapsed": true
   },
   "outputs": [],
   "source": [
    "classify_svm (data_two[0], data_two[1], kfold_two, poly_svm)"
   ]
  },
  {
   "cell_type": "markdown",
   "metadata": {},
   "source": [
    "##### Running the SVM RBF Kernel"
   ]
  },
  {
   "cell_type": "code",
   "execution_count": 28,
   "metadata": {
    "collapsed": false
   },
   "outputs": [
    {
     "name": "stdout",
     "output_type": "stream",
     "text": [
      "Average PPV: 0.5000\n",
      "Average NPV: 0.5000\n",
      "Average Specificity: 0.5000\n",
      "Average Sensitivity: 0.5000\n",
      "Average Accuracy: 1.0000\n"
     ]
    }
   ],
   "source": [
    "classify_svm (data_two[0], data_two[1], kfold_two, rbf_svm)"
   ]
  },
  {
   "cell_type": "markdown",
   "metadata": {},
   "source": [
    "#### Discussion"
   ]
  },
  {
   "cell_type": "markdown",
   "metadata": {},
   "source": [
    "It is seen that SVM performs better in this dataset than the previous one (cluster in cluster dataset). It also gives a perfect classification for the RBF kernel.\n",
    "\n",
    "Next, we apply gridsearch optimization to get better results"
   ]
  },
  {
   "cell_type": "markdown",
   "metadata": {},
   "source": [
    "##### Tuned Linear Kernel"
   ]
  },
  {
   "cell_type": "code",
   "execution_count": 29,
   "metadata": {
    "collapsed": false
   },
   "outputs": [
    {
     "name": "stdout",
     "output_type": "stream",
     "text": [
      "Average PPV: 0.6857\n",
      "Average NPV: 0.8667\n",
      "Average Specificity: 0.5417\n",
      "Average Sensitivity: 0.9231\n",
      "Average Accuracy: 0.7400\n"
     ]
    }
   ],
   "source": [
    "grid_linear_two =grid_classify(data_two[0], data_two[1], tuned_linear)"
   ]
  },
  {
   "cell_type": "code",
   "execution_count": 30,
   "metadata": {
    "collapsed": false
   },
   "outputs": [
    {
     "data": {
      "image/png": "[encoded data removed]",
      "text/plain": [
       "<matplotlib.figure.Figure at 0x7c483b0>"
      ]
     },
     "metadata": {},
     "output_type": "display_data"
    },
    {
     "data": {
      "text/plain": [
       "0.20072115384615383"
      ]
     },
     "execution_count": 30,
     "metadata": {},
     "output_type": "execute_result"
    }
   ],
   "source": [
    "roc_metrics(grid_linear_two[0], grid_linear_two[1])"
   ]
  },
  {
   "cell_type": "markdown",
   "metadata": {},
   "source": [
    "##### Tuned Polynomial Kernel "
   ]
  },
  {
   "cell_type": "code",
   "execution_count": null,
   "metadata": {
    "collapsed": true
   },
   "outputs": [],
   "source": [
    "grid_poly_two =grid_classify(data_two[0], data_two[1], tuned_poly)"
   ]
  },
  {
   "cell_type": "code",
   "execution_count": null,
   "metadata": {
    "collapsed": true
   },
   "outputs": [],
   "source": [
    "roc_metrics(grid_poly_two[0], grid_poly_two[1])"
   ]
  },
  {
   "cell_type": "markdown",
   "metadata": {},
   "source": [
    "##### Tuned RBF Kernel"
   ]
  },
  {
   "cell_type": "code",
   "execution_count": 31,
   "metadata": {
    "collapsed": false
   },
   "outputs": [
    {
     "name": "stdout",
     "output_type": "stream",
     "text": [
      "Average PPV: 1.0000\n",
      "Average NPV: 1.0000\n",
      "Average Specificity: 1.0000\n",
      "Average Sensitivity: 1.0000\n",
      "Average Accuracy: 1.0000\n"
     ]
    }
   ],
   "source": [
    "grid_rbf_two =grid_classify(data_two[0], data_two[1], tuned_rbf)"
   ]
  },
  {
   "cell_type": "code",
   "execution_count": 32,
   "metadata": {
    "collapsed": false
   },
   "outputs": [
    {
     "data": {
      "image/png": "[encoded data removed]",
      "text/plain": [
       "<matplotlib.figure.Figure at 0x40f5350>"
      ]
     },
     "metadata": {},
     "output_type": "display_data"
    },
    {
     "data": {
      "text/plain": [
       "0.0"
      ]
     },
     "execution_count": 32,
     "metadata": {},
     "output_type": "execute_result"
    }
   ],
   "source": [
    "roc_metrics(grid_rbf_two[0], grid_rbf_two[1])"
   ]
  },
  {
   "cell_type": "markdown",
   "metadata": {},
   "source": [
    "#### The Two Gaussians Dataset"
   ]
  },
  {
   "cell_type": "code",
   "execution_count": 33,
   "metadata": {
    "collapsed": true
   },
   "outputs": [],
   "source": [
    "path_three = 'C:\\\\Users\\\\Chux\\\\Desktop\\\\Datasets for Pattern Recognition\\\\twogaussians.csv'"
   ]
  },
  {
   "cell_type": "code",
   "execution_count": 34,
   "metadata": {
    "collapsed": true
   },
   "outputs": [],
   "source": [
    "data_three = load_data(path_three)"
   ]
  },
  {
   "cell_type": "code",
   "execution_count": 36,
   "metadata": {
    "collapsed": false
   },
   "outputs": [],
   "source": [
    "kfold_three = k_fold(400,10)"
   ]
  },
  {
   "cell_type": "markdown",
   "metadata": {},
   "source": [
    "##### Running the SVM Linear Kernel"
   ]
  },
  {
   "cell_type": "code",
   "execution_count": 37,
   "metadata": {
    "collapsed": false
   },
   "outputs": [
    {
     "name": "stdout",
     "output_type": "stream",
     "text": [
      "Average PPV: 0.5857\n",
      "Average NPV: 0.5000\n",
      "Average Specificity: 0.4846\n",
      "Average Sensitivity: 0.5825\n",
      "Average Accuracy: 0.9675\n"
     ]
    }
   ],
   "source": [
    "classify_svm (data_three[0], data_three[1], kfold_three, linear_svm)"
   ]
  },
  {
   "cell_type": "markdown",
   "metadata": {},
   "source": [
    "##### Running the SVM Polynomial Kernel"
   ]
  },
  {
   "cell_type": "code",
   "execution_count": null,
   "metadata": {
    "collapsed": true
   },
   "outputs": [],
   "source": [
    "classify_svm (data_three[0], data_three[1], kfold_three, poly_svm)"
   ]
  },
  {
   "cell_type": "markdown",
   "metadata": {},
   "source": [
    "##### Running the SVM RBF Kernel"
   ]
  },
  {
   "cell_type": "code",
   "execution_count": 38,
   "metadata": {
    "collapsed": false
   },
   "outputs": [
    {
     "name": "stdout",
     "output_type": "stream",
     "text": [
      "Average PPV: 0.6000\n",
      "Average NPV: 0.5000\n",
      "Average Specificity: 0.4900\n",
      "Average Sensitivity: 0.5850\n",
      "Average Accuracy: 0.9750\n"
     ]
    }
   ],
   "source": [
    "classify_svm (data_three[0], data_three[1], kfold_three, rbf_svm)"
   ]
  },
  {
   "cell_type": "markdown",
   "metadata": {},
   "source": [
    "#### Discussion"
   ]
  },
  {
   "cell_type": "markdown",
   "metadata": {},
   "source": [
    "The linear kernel works very well on this dataset when compared to the last two (cluster in cluster and half kernel). The RBF kernel decreases in accuracy a little bit but still performs well.\n",
    "\n",
    "Below, gridsearch is applied."
   ]
  },
  {
   "cell_type": "markdown",
   "metadata": {},
   "source": [
    "##### Tuned Linear Kernel"
   ]
  },
  {
   "cell_type": "code",
   "execution_count": 39,
   "metadata": {
    "collapsed": false
   },
   "outputs": [
    {
     "name": "stdout",
     "output_type": "stream",
     "text": [
      "Average PPV: 1.0000\n",
      "Average NPV: 0.8889\n",
      "Average Specificity: 1.0000\n",
      "Average Sensitivity: 0.9167\n",
      "Average Accuracy: 0.9500\n"
     ]
    }
   ],
   "source": [
    "grid_linear_three =grid_classify(data_three[0], data_three[1], tuned_linear)"
   ]
  },
  {
   "cell_type": "code",
   "execution_count": 40,
   "metadata": {
    "collapsed": false
   },
   "outputs": [
    {
     "data": {
      "image/png": "[encoded data removed]",
      "text/plain": [
       "<matplotlib.figure.Figure at 0x7c40cd0>"
      ]
     },
     "metadata": {},
     "output_type": "display_data"
    },
    {
     "data": {
      "text/plain": [
       "0.0"
      ]
     },
     "execution_count": 40,
     "metadata": {},
     "output_type": "execute_result"
    }
   ],
   "source": [
    "roc_metrics(grid_linear_three[0], grid_linear_three[1])"
   ]
  },
  {
   "cell_type": "markdown",
   "metadata": {},
   "source": [
    "##### Tuned Polynomial Kernel"
   ]
  },
  {
   "cell_type": "code",
   "execution_count": null,
   "metadata": {
    "collapsed": true
   },
   "outputs": [],
   "source": [
    "grid_poly_three =grid_classify(data_three[0], data_three[1], tuned_poly)"
   ]
  },
  {
   "cell_type": "code",
   "execution_count": null,
   "metadata": {
    "collapsed": true
   },
   "outputs": [],
   "source": [
    "roc_metrics(grid_poly_three[0], grid_poly_three[1])"
   ]
  },
  {
   "cell_type": "markdown",
   "metadata": {},
   "source": [
    "##### Tuned RBF Kernel"
   ]
  },
  {
   "cell_type": "code",
   "execution_count": 41,
   "metadata": {
    "collapsed": false
   },
   "outputs": [
    {
     "name": "stdout",
     "output_type": "stream",
     "text": [
      "Average PPV: 1.0000\n",
      "Average NPV: 0.8889\n",
      "Average Specificity: 1.0000\n",
      "Average Sensitivity: 0.9167\n",
      "Average Accuracy: 0.9500\n"
     ]
    }
   ],
   "source": [
    "grid_rbf_three =grid_classify(data_three[0], data_three[1], tuned_rbf)"
   ]
  },
  {
   "cell_type": "code",
   "execution_count": 42,
   "metadata": {
    "collapsed": false
   },
   "outputs": [
    {
     "data": {
      "image/png": "[encoded data removed]",
      "text/plain": [
       "<matplotlib.figure.Figure at 0x41287b0>"
      ]
     },
     "metadata": {},
     "output_type": "display_data"
    },
    {
     "data": {
      "text/plain": [
       "0.0"
      ]
     },
     "execution_count": 42,
     "metadata": {},
     "output_type": "execute_result"
    }
   ],
   "source": [
    "roc_metrics(grid_rbf_three[0], grid_rbf_three[1])"
   ]
  },
  {
   "cell_type": "markdown",
   "metadata": {},
   "source": [
    "#### The Two Spirals Dataset"
   ]
  },
  {
   "cell_type": "code",
   "execution_count": 43,
   "metadata": {
    "collapsed": true
   },
   "outputs": [],
   "source": [
    "path_four = 'C:\\\\Users\\\\Chux\\\\Desktop\\\\Datasets for Pattern Recognition\\\\twospirals.csv'"
   ]
  },
  {
   "cell_type": "code",
   "execution_count": 44,
   "metadata": {
    "collapsed": true
   },
   "outputs": [],
   "source": [
    "data_four = load_data(path_four)"
   ]
  },
  {
   "cell_type": "code",
   "execution_count": 46,
   "metadata": {
    "collapsed": false
   },
   "outputs": [],
   "source": [
    "kfold_four = k_fold(1000,10)"
   ]
  },
  {
   "cell_type": "markdown",
   "metadata": {},
   "source": [
    "##### Running the SVM Linear Kernel"
   ]
  },
  {
   "cell_type": "code",
   "execution_count": 47,
   "metadata": {
    "collapsed": false
   },
   "outputs": [
    {
     "name": "stdout",
     "output_type": "stream",
     "text": [
      "Average PPV: 0.5000\n",
      "Average NPV: 0.5000\n",
      "Average Specificity: 0.3010\n",
      "Average Sensitivity: 0.2780\n",
      "Average Accuracy: 0.5790\n"
     ]
    }
   ],
   "source": [
    "classify_svm (data_four[0], data_four[1], kfold_four, linear_svm)"
   ]
  },
  {
   "cell_type": "markdown",
   "metadata": {},
   "source": [
    "##### Running the SVM Polynomial Kernel"
   ]
  },
  {
   "cell_type": "code",
   "execution_count": null,
   "metadata": {
    "collapsed": true
   },
   "outputs": [],
   "source": [
    "classify_svm (data_four[0], data_four[1], kfold_four, poly_svm)"
   ]
  },
  {
   "cell_type": "markdown",
   "metadata": {},
   "source": [
    "##### Running the SVM RBF Kernel"
   ]
  },
  {
   "cell_type": "code",
   "execution_count": 48,
   "metadata": {
    "collapsed": false
   },
   "outputs": [
    {
     "name": "stdout",
     "output_type": "stream",
     "text": [
      "Average PPV: 0.5000\n",
      "Average NPV: 0.5000\n",
      "Average Specificity: 0.4670\n",
      "Average Sensitivity: 0.4720\n",
      "Average Accuracy: 0.9390\n"
     ]
    }
   ],
   "source": [
    "classify_svm (data_four[0], data_four[1], kfold_four, rbf_svm)"
   ]
  },
  {
   "cell_type": "markdown",
   "metadata": {},
   "source": [
    "##### Tuned Linear Kernel"
   ]
  },
  {
   "cell_type": "code",
   "execution_count": 49,
   "metadata": {
    "collapsed": false
   },
   "outputs": [
    {
     "name": "stdout",
     "output_type": "stream",
     "text": [
      "Average PPV: 0.6481\n",
      "Average NPV: 0.6304\n",
      "Average Specificity: 0.6042\n",
      "Average Sensitivity: 0.6731\n",
      "Average Accuracy: 0.6400\n"
     ]
    }
   ],
   "source": [
    "grid_linear_four =grid_classify(data_four[0], data_four[1], tuned_linear)"
   ]
  },
  {
   "cell_type": "code",
   "execution_count": 50,
   "metadata": {
    "collapsed": false
   },
   "outputs": [
    {
     "data": {
      "image/png": "[encoded data removed]",
      "text/plain": [
       "<matplotlib.figure.Figure at 0x41799d0>"
      ]
     },
     "metadata": {},
     "output_type": "display_data"
    },
    {
     "data": {
      "text/plain": [
       "0.13341346153846154"
      ]
     },
     "execution_count": 50,
     "metadata": {},
     "output_type": "execute_result"
    }
   ],
   "source": [
    "roc_metrics(grid_linear_four[0], grid_linear_four[1])"
   ]
  },
  {
   "cell_type": "markdown",
   "metadata": {},
   "source": [
    "##### Tuned Polynomial Kernel"
   ]
  },
  {
   "cell_type": "code",
   "execution_count": null,
   "metadata": {
    "collapsed": true
   },
   "outputs": [],
   "source": [
    "grid_poly_four =grid_classify(data_four[0], data_four[1], tuned_poly)"
   ]
  },
  {
   "cell_type": "code",
   "execution_count": null,
   "metadata": {
    "collapsed": true
   },
   "outputs": [],
   "source": [
    "roc_metrics(grid_poly_four[0], grid_poly_four[1])"
   ]
  },
  {
   "cell_type": "markdown",
   "metadata": {},
   "source": [
    "##### Tuned RBF Kernel"
   ]
  },
  {
   "cell_type": "code",
   "execution_count": 51,
   "metadata": {
    "collapsed": false
   },
   "outputs": [
    {
     "name": "stdout",
     "output_type": "stream",
     "text": [
      "Average PPV: 0.9623\n",
      "Average NPV: 0.9787\n",
      "Average Specificity: 0.9583\n",
      "Average Sensitivity: 0.9808\n",
      "Average Accuracy: 0.9700\n"
     ]
    }
   ],
   "source": [
    "grid_rbf_four =grid_classify(data_four[0], data_four[1], tuned_rbf)"
   ]
  },
  {
   "cell_type": "code",
   "execution_count": 52,
   "metadata": {
    "collapsed": false
   },
   "outputs": [
    {
     "data": {
      "image/png": "[encoded data removed]",
      "text/plain": [
       "<matplotlib.figure.Figure at 0x41f2290>"
      ]
     },
     "metadata": {},
     "output_type": "display_data"
    },
    {
     "data": {
      "text/plain": [
       "0.03125"
      ]
     },
     "execution_count": 52,
     "metadata": {},
     "output_type": "execute_result"
    }
   ],
   "source": [
    "roc_metrics(grid_rbf_four[0], grid_rbf_four[1])"
   ]
  },
  {
   "cell_type": "code",
   "execution_count": null,
   "metadata": {
    "collapsed": true
   },
   "outputs": [],
   "source": []
  }
 ],
 "metadata": {
  "kernelspec": {
   "display_name": "Python 3",
   "language": "python",
   "name": "python3"
  },
  "language_info": {
   "codemirror_mode": {
    "name": "ipython",
    "version": 3
   },
   "file_extension": ".py",
   "mimetype": "text/x-python",
   "name": "python",
   "nbconvert_exporter": "python",
   "pygments_lexer": "ipython3",
   "version": "3.4.3"
  }
 },
 "nbformat": 4,
 "nbformat_minor": 0
}
